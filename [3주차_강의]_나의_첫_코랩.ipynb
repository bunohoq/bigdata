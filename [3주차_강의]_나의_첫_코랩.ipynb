{
  "nbformat": 4,
  "nbformat_minor": 0,
  "metadata": {
    "colab": {
      "name": "[3주차 강의] 나의 첫 코랩.ipynb",
      "provenance": [],
      "collapsed_sections": [],
      "include_colab_link": true
    },
    "kernelspec": {
      "name": "python3",
      "display_name": "Python 3"
    },
    "language_info": {
      "name": "python"
    },
    "accelerator": "GPU",
    "gpuClass": "standard"
  },
  "cells": [
    {
      "cell_type": "markdown",
      "metadata": {
        "id": "view-in-github",
        "colab_type": "text"
      },
      "source": [
        "<a href=\"https://colab.research.google.com/github/shkimusw/bigdata/blob/main/%5B3%EC%A3%BC%EC%B0%A8_%EA%B0%95%EC%9D%98%5D_%E1%84%82%E1%85%A1%E1%84%8B%E1%85%B4_%E1%84%8E%E1%85%A5%E1%86%BA_%E1%84%8F%E1%85%A9%E1%84%85%E1%85%A2%E1%86%B8.ipynb\" target=\"_parent\"><img src=\"https://colab.research.google.com/assets/colab-badge.svg\" alt=\"Open In Colab\"/></a>"
      ]
    },
    {
      "cell_type": "markdown",
      "source": [
        "### 경제빅데이터입문"
      ],
      "metadata": {
        "id": "qJmPfKPOoXb9"
      }
    },
    {
      "cell_type": "code",
      "execution_count": null,
      "metadata": {
        "colab": {
          "base_uri": "https://localhost:8080/"
        },
        "id": "ZjH_nTA4nXTJ",
        "outputId": "43bc2ff0-c9e9-4247-cc37-18b7cbab8add"
      },
      "outputs": [
        {
          "output_type": "stream",
          "name": "stdout",
          "text": [
            "Hello, Big Data\n"
          ]
        }
      ],
      "source": [
        "print(\"Hello, Big Data\")   #따옴표 안에 출력하고 싶은 말 쓰기. # 다음에 쓰는 말은 코드로 인식이 되지 않습니다."
      ]
    },
    {
      "cell_type": "code",
      "source": [],
      "metadata": {
        "id": "FYdSBgV2Zh8n"
      },
      "execution_count": null,
      "outputs": []
    },
    {
      "cell_type": "code",
      "source": [],
      "metadata": {
        "id": "1U4ApjtyYGXO"
      },
      "execution_count": null,
      "outputs": []
    }
  ]
}