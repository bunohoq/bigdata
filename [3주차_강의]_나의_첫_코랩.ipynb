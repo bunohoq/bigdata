{
  "nbformat": 4,
  "nbformat_minor": 0,
  "metadata": {
    "colab": {
      "provenance": [],
      "collapsed_sections": [],
      "include_colab_link": true
    },
    "kernelspec": {
      "name": "python3",
      "display_name": "Python 3"
    },
    "language_info": {
      "name": "python"
    },
    "accelerator": "GPU",
    "gpuClass": "standard"
  },
  "cells": [
    {
      "cell_type": "markdown",
      "metadata": {
        "id": "view-in-github",
        "colab_type": "text"
      },
      "source": [
        "<a href=\"https://colab.research.google.com/github/shkimusw/bigdata/blob/main/%5B3%EC%A3%BC%EC%B0%A8_%EA%B0%95%EC%9D%98%5D_%E1%84%82%E1%85%A1%E1%84%8B%E1%85%B4_%E1%84%8E%E1%85%A5%E1%86%BA_%E1%84%8F%E1%85%A9%E1%84%85%E1%85%A2%E1%86%B8.ipynb\" target=\"_parent\"><img src=\"https://colab.research.google.com/assets/colab-badge.svg\" alt=\"Open In Colab\"/></a>"
      ]
    },
    {
      "cell_type": "markdown",
      "source": [
        "### 경제빅데이터입문"
      ],
      "metadata": {
        "id": "qJmPfKPOoXb9"
      }
    },
    {
      "cell_type": "code",
      "execution_count": null,
      "metadata": {
        "colab": {
          "base_uri": "https://localhost:8080/"
        },
        "id": "ZjH_nTA4nXTJ",
        "outputId": "43bc2ff0-c9e9-4247-cc37-18b7cbab8add"
      },
      "outputs": [
        {
          "output_type": "stream",
          "name": "stdout",
          "text": [
            "Hello, Big Data\n"
          ]
        }
      ],
      "source": [
        "print(\"Hello, Big Data\")   #따옴표 안에 출력하고 싶은 말 쓰기. # 다음에 쓰는 말은 코드로 인식이 되지 않습니다."
      ]
    },
    {
      "cell_type": "code",
      "source": [
        "print(356*10)    #곱셈"
      ],
      "metadata": {
        "id": "FYdSBgV2Zh8n",
        "colab": {
          "base_uri": "https://localhost:8080/"
        },
        "outputId": "a162a0f0-aebd-401b-cdbc-1fa73ee4c926"
      },
      "execution_count": null,
      "outputs": [
        {
          "output_type": "stream",
          "name": "stdout",
          "text": [
            "3560\n"
          ]
        }
      ]
    },
    {
      "cell_type": "code",
      "source": [
        "print(356**2)  #제곱"
      ],
      "metadata": {
        "id": "1U4ApjtyYGXO",
        "colab": {
          "base_uri": "https://localhost:8080/"
        },
        "outputId": "7c8ea014-de41-475c-e2cb-1777067a3e15"
      },
      "execution_count": null,
      "outputs": [
        {
          "output_type": "stream",
          "name": "stdout",
          "text": [
            "126736\n"
          ]
        }
      ]
    },
    {
      "cell_type": "code",
      "source": [
        "# 변수 만들기. 변수 이름은 아무거나 가능 (숫자로 시작하는 것 제외)\n",
        "name='파이쏭'\n",
        "print(name)"
      ],
      "metadata": {
        "colab": {
          "base_uri": "https://localhost:8080/"
        },
        "id": "dBGj2Dhz9lQv",
        "outputId": "58c2ddc1-05bc-4aca-ae30-35d5d86844bd"
      },
      "execution_count": null,
      "outputs": [
        {
          "output_type": "stream",
          "name": "stdout",
          "text": [
            "파이쏭\n"
          ]
        }
      ]
    },
    {
      "cell_type": "code",
      "source": [
        "name2='빅데이터'\n",
        "print(name2)"
      ],
      "metadata": {
        "colab": {
          "base_uri": "https://localhost:8080/"
        },
        "id": "-psbfgzC96o5",
        "outputId": "8106a650-0d25-4e5b-88c2-06784d222ba2"
      },
      "execution_count": null,
      "outputs": [
        {
          "output_type": "stream",
          "name": "stdout",
          "text": [
            "빅데이터\n"
          ]
        }
      ]
    },
    {
      "cell_type": "code",
      "source": [
        "name='원더키디'\n",
        "print(2020, name,  '화이팅!')"
      ],
      "metadata": {
        "colab": {
          "base_uri": "https://localhost:8080/"
        },
        "id": "Ytx1PiGS-Hvs",
        "outputId": "7e411c3b-b923-4b98-cd7f-1c45125524ac"
      },
      "execution_count": null,
      "outputs": [
        {
          "output_type": "stream",
          "name": "stdout",
          "text": [
            "2020 원더키디 화이팅!\n"
          ]
        }
      ]
    },
    {
      "cell_type": "code",
      "source": [
        "#input 함수\n",
        "name=input()\n",
        "print(name+'님! 안녕하세요.')"
      ],
      "metadata": {
        "colab": {
          "base_uri": "https://localhost:8080/"
        },
        "id": "VRzTNlNs-S6O",
        "outputId": "ab3603d8-584e-46ab-c5d9-61f8649c5520"
      },
      "execution_count": null,
      "outputs": [
        {
          "output_type": "stream",
          "name": "stdout",
          "text": [
            "김성희\n",
            "김성희님! 안녕하세요.\n"
          ]
        }
      ]
    },
    {
      "cell_type": "code",
      "source": [
        "name=input('이름을 입력해주세요: ')\n",
        "print(name+'님 안녕하세요!')"
      ],
      "metadata": {
        "colab": {
          "base_uri": "https://localhost:8080/"
        },
        "id": "6B400Cyn-cDk",
        "outputId": "a71ed0d9-6a7b-4324-f756-c68a6b0542d9"
      },
      "execution_count": null,
      "outputs": [
        {
          "output_type": "stream",
          "name": "stdout",
          "text": [
            "이름을 입력해주세요: 김성희\n",
            "김성희님 안녕하세요!\n"
          ]
        }
      ]
    },
    {
      "cell_type": "code",
      "source": [
        "age=input('나이를 입력해주세요: ')\n",
        "print(age-4)"
      ],
      "metadata": {
        "colab": {
          "base_uri": "https://localhost:8080/",
          "height": 211
        },
        "id": "t0OrZYEG_qhb",
        "outputId": "69a730c0-8d25-4dc0-d525-e69340bec900"
      },
      "execution_count": null,
      "outputs": [
        {
          "name": "stdout",
          "output_type": "stream",
          "text": [
            "나이를 입력해주세요: 35\n"
          ]
        },
        {
          "output_type": "error",
          "ename": "TypeError",
          "evalue": "ignored",
          "traceback": [
            "\u001b[0;31m---------------------------------------------------------------------------\u001b[0m",
            "\u001b[0;31mTypeError\u001b[0m                                 Traceback (most recent call last)",
            "\u001b[0;32m<ipython-input-9-99fb24db9e82>\u001b[0m in \u001b[0;36m<module>\u001b[0;34m\u001b[0m\n\u001b[1;32m      1\u001b[0m \u001b[0mage\u001b[0m\u001b[0;34m=\u001b[0m\u001b[0minput\u001b[0m\u001b[0;34m(\u001b[0m\u001b[0;34m'나이를 입력해주세요: '\u001b[0m\u001b[0;34m)\u001b[0m\u001b[0;34m\u001b[0m\u001b[0;34m\u001b[0m\u001b[0m\n\u001b[0;32m----> 2\u001b[0;31m \u001b[0mprint\u001b[0m\u001b[0;34m(\u001b[0m\u001b[0mage\u001b[0m\u001b[0;34m-\u001b[0m\u001b[0;36m4\u001b[0m\u001b[0;34m)\u001b[0m\u001b[0;34m\u001b[0m\u001b[0;34m\u001b[0m\u001b[0m\n\u001b[0m",
            "\u001b[0;31mTypeError\u001b[0m: unsupported operand type(s) for -: 'str' and 'int'"
          ]
        }
      ]
    },
    {
      "cell_type": "code",
      "source": [
        "age=input('나이를 입력해주세요: ')\n",
        "print(int(age)-4)"
      ],
      "metadata": {
        "colab": {
          "base_uri": "https://localhost:8080/"
        },
        "id": "apo_3wlU_3lS",
        "outputId": "d47406dc-13eb-4b20-bea9-2dabfc0b42c9"
      },
      "execution_count": null,
      "outputs": [
        {
          "output_type": "stream",
          "name": "stdout",
          "text": [
            "나이를 입력해주세요: 25\n",
            "21\n"
          ]
        }
      ]
    },
    {
      "cell_type": "code",
      "source": [
        "name=input('이름을 입력하세요: ')\n",
        "age=int(input('나이를 입력하세요: '))\n",
        "print('안녕하세요,', name+'님! 저는 처음에 '+str(age-4)+'살인 줄 알았어요!')"
      ],
      "metadata": {
        "colab": {
          "base_uri": "https://localhost:8080/"
        },
        "id": "yI0-Hv4pACeN",
        "outputId": "fd7c7027-dbff-4f9e-cddd-714b0385a9ac"
      },
      "execution_count": null,
      "outputs": [
        {
          "output_type": "stream",
          "name": "stdout",
          "text": [
            "이름을 입력하세요: 김성희\n",
            "나이를 입력하세요: 30\n",
            "안녕하세요, 김성희님! 저는 처음에 26살인 줄 알았어요!\n"
          ]
        }
      ]
    },
    {
      "cell_type": "code",
      "source": [
        "name=input('이름을 입력하세요: ')\n",
        "age=int(input('나이를 입력하세요: '))\n",
        "print('안녕하세요,', name+'님! 저는 처음에 '+(age-4)+'살인 줄 알았어요!')"
      ],
      "metadata": {
        "colab": {
          "base_uri": "https://localhost:8080/",
          "height": 248
        },
        "id": "Ib8G0Y5GAXUr",
        "outputId": "8e1b5357-cda4-44c5-e03d-d0b86d44605d"
      },
      "execution_count": null,
      "outputs": [
        {
          "name": "stdout",
          "output_type": "stream",
          "text": [
            "이름을 입력하세요: 김성희\n",
            "나이를 입력하세요: 30\n"
          ]
        },
        {
          "output_type": "error",
          "ename": "TypeError",
          "evalue": "ignored",
          "traceback": [
            "\u001b[0;31m---------------------------------------------------------------------------\u001b[0m",
            "\u001b[0;31mTypeError\u001b[0m                                 Traceback (most recent call last)",
            "\u001b[0;32m<ipython-input-14-51282fd1a83e>\u001b[0m in \u001b[0;36m<module>\u001b[0;34m\u001b[0m\n\u001b[1;32m      1\u001b[0m \u001b[0mname\u001b[0m\u001b[0;34m=\u001b[0m\u001b[0minput\u001b[0m\u001b[0;34m(\u001b[0m\u001b[0;34m'이름을 입력하세요: '\u001b[0m\u001b[0;34m)\u001b[0m\u001b[0;34m\u001b[0m\u001b[0;34m\u001b[0m\u001b[0m\n\u001b[1;32m      2\u001b[0m \u001b[0mage\u001b[0m\u001b[0;34m=\u001b[0m\u001b[0mint\u001b[0m\u001b[0;34m(\u001b[0m\u001b[0minput\u001b[0m\u001b[0;34m(\u001b[0m\u001b[0;34m'나이를 입력하세요: '\u001b[0m\u001b[0;34m)\u001b[0m\u001b[0;34m)\u001b[0m\u001b[0;34m\u001b[0m\u001b[0;34m\u001b[0m\u001b[0m\n\u001b[0;32m----> 3\u001b[0;31m \u001b[0mprint\u001b[0m\u001b[0;34m(\u001b[0m\u001b[0;34m'안녕하세요,'\u001b[0m\u001b[0;34m,\u001b[0m \u001b[0mname\u001b[0m\u001b[0;34m+\u001b[0m\u001b[0;34m'님! 저는 처음에 '\u001b[0m\u001b[0;34m+\u001b[0m\u001b[0;34m(\u001b[0m\u001b[0mage\u001b[0m\u001b[0;34m-\u001b[0m\u001b[0;36m4\u001b[0m\u001b[0;34m)\u001b[0m\u001b[0;34m+\u001b[0m\u001b[0;34m'살인 줄 알았어요!'\u001b[0m\u001b[0;34m)\u001b[0m\u001b[0;34m\u001b[0m\u001b[0;34m\u001b[0m\u001b[0m\n\u001b[0m",
            "\u001b[0;31mTypeError\u001b[0m: can only concatenate str (not \"int\") to str"
          ]
        }
      ]
    },
    {
      "cell_type": "code",
      "source": [],
      "metadata": {
        "id": "mw2NNGflA8eA"
      },
      "execution_count": null,
      "outputs": []
    }
  ]
}