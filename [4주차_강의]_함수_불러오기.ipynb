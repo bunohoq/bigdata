{
  "nbformat": 4,
  "nbformat_minor": 0,
  "metadata": {
    "colab": {
      "provenance": [],
      "authorship_tag": "ABX9TyNlo6fuxRMv2whN7LL1wOU6",
      "include_colab_link": true
    },
    "kernelspec": {
      "name": "python3",
      "display_name": "Python 3"
    },
    "language_info": {
      "name": "python"
    }
  },
  "cells": [
    {
      "cell_type": "markdown",
      "metadata": {
        "id": "view-in-github",
        "colab_type": "text"
      },
      "source": [
        "<a href=\"https://colab.research.google.com/github/shkimusw/bigdata/blob/main/%5B4%EC%A3%BC%EC%B0%A8_%EA%B0%95%EC%9D%98%5D_%ED%95%A8%EC%88%98_%EB%B6%88%EB%9F%AC%EC%98%A4%EA%B8%B0.ipynb\" target=\"_parent\"><img src=\"https://colab.research.google.com/assets/colab-badge.svg\" alt=\"Open In Colab\"/></a>"
      ]
    },
    {
      "cell_type": "markdown",
      "source": [
        "# 함수 불러오기\n",
        "https://docs.python.org/ko/3/library/functions.html"
      ],
      "metadata": {
        "id": "JNnUJmoNcdqm"
      }
    },
    {
      "cell_type": "code",
      "source": [
        "import random\n",
        "dice=random.randint(1,6)  \n",
        "print(dice)"
      ],
      "metadata": {
        "colab": {
          "base_uri": "https://localhost:8080/"
        },
        "id": "WU-jlPK1ciB-",
        "outputId": "53a7fedc-9e23-4e06-cab2-2bf83831bdf9"
      },
      "execution_count": null,
      "outputs": [
        {
          "output_type": "stream",
          "name": "stdout",
          "text": [
            "5\n"
          ]
        }
      ]
    },
    {
      "cell_type": "code",
      "source": [
        "import random\n",
        "dice2=random.randint(1,12)\n",
        "print(dice2)"
      ],
      "metadata": {
        "colab": {
          "base_uri": "https://localhost:8080/"
        },
        "id": "-2SRCY26cmk_",
        "outputId": "ea95d544-c98c-4c0c-e4a1-cb85ea62ae38"
      },
      "execution_count": null,
      "outputs": [
        {
          "output_type": "stream",
          "name": "stdout",
          "text": [
            "9\n"
          ]
        }
      ]
    },
    {
      "cell_type": "code",
      "source": [
        "import math\n",
        "print(math.sqrt(3))"
      ],
      "metadata": {
        "colab": {
          "base_uri": "https://localhost:8080/"
        },
        "id": "e0kyiMtoc2FV",
        "outputId": "17ef9129-313e-4dcb-f816-2e90a36d42e3"
      },
      "execution_count": null,
      "outputs": [
        {
          "output_type": "stream",
          "name": "stdout",
          "text": [
            "1.7320508075688772\n"
          ]
        }
      ]
    },
    {
      "cell_type": "markdown",
      "source": [
        "for 반복문"
      ],
      "metadata": {
        "id": "eueGpkg1dnfr"
      }
    },
    {
      "cell_type": "code",
      "source": [
        "name='파이쏭'\n",
        "for i in name:\n",
        "  print(i)"
      ],
      "metadata": {
        "colab": {
          "base_uri": "https://localhost:8080/"
        },
        "id": "dK6tCUwmdsZW",
        "outputId": "73f39e1a-19d2-4fc8-b53d-e7045d42d24b"
      },
      "execution_count": null,
      "outputs": [
        {
          "output_type": "stream",
          "name": "stdout",
          "text": [
            "파\n",
            "이\n",
            "쏭\n"
          ]
        }
      ]
    },
    {
      "cell_type": "code",
      "source": [
        "names=['쵸파','루피','상디', '조로']\n",
        "for name in names:\n",
        "  print(name)"
      ],
      "metadata": {
        "id": "EHVdYDb5dyyV"
      },
      "execution_count": null,
      "outputs": []
    },
    {
      "cell_type": "code",
      "source": [
        "for i in [0,1,2,3]:\n",
        "  print(i**2)"
      ],
      "metadata": {
        "id": "TRgwcNYdd-lo"
      },
      "execution_count": null,
      "outputs": []
    },
    {
      "cell_type": "code",
      "source": [
        "for i in range(100):\n",
        "  print(i**2)"
      ],
      "metadata": {
        "id": "TsSyOUwLeH8c"
      },
      "execution_count": null,
      "outputs": []
    },
    {
      "cell_type": "code",
      "source": [
        "for i in range(100):\n",
        "   print('나는 파이썬 왕이 될 사람이다!!')"
      ],
      "metadata": {
        "id": "K9mvvta0eOPx",
        "colab": {
          "base_uri": "https://localhost:8080/"
        },
        "outputId": "3ee99ccc-ae81-4906-fa88-6e2bbc5ee4a6"
      },
      "execution_count": null,
      "outputs": [
        {
          "output_type": "stream",
          "name": "stdout",
          "text": [
            "나는 파이썬 왕이 될 사람이다!!\n",
            "나는 파이썬 왕이 될 사람이다!!\n",
            "나는 파이썬 왕이 될 사람이다!!\n",
            "나는 파이썬 왕이 될 사람이다!!\n",
            "나는 파이썬 왕이 될 사람이다!!\n",
            "나는 파이썬 왕이 될 사람이다!!\n",
            "나는 파이썬 왕이 될 사람이다!!\n",
            "나는 파이썬 왕이 될 사람이다!!\n",
            "나는 파이썬 왕이 될 사람이다!!\n",
            "나는 파이썬 왕이 될 사람이다!!\n",
            "나는 파이썬 왕이 될 사람이다!!\n",
            "나는 파이썬 왕이 될 사람이다!!\n",
            "나는 파이썬 왕이 될 사람이다!!\n",
            "나는 파이썬 왕이 될 사람이다!!\n",
            "나는 파이썬 왕이 될 사람이다!!\n",
            "나는 파이썬 왕이 될 사람이다!!\n",
            "나는 파이썬 왕이 될 사람이다!!\n",
            "나는 파이썬 왕이 될 사람이다!!\n",
            "나는 파이썬 왕이 될 사람이다!!\n",
            "나는 파이썬 왕이 될 사람이다!!\n",
            "나는 파이썬 왕이 될 사람이다!!\n",
            "나는 파이썬 왕이 될 사람이다!!\n",
            "나는 파이썬 왕이 될 사람이다!!\n",
            "나는 파이썬 왕이 될 사람이다!!\n",
            "나는 파이썬 왕이 될 사람이다!!\n",
            "나는 파이썬 왕이 될 사람이다!!\n",
            "나는 파이썬 왕이 될 사람이다!!\n",
            "나는 파이썬 왕이 될 사람이다!!\n",
            "나는 파이썬 왕이 될 사람이다!!\n",
            "나는 파이썬 왕이 될 사람이다!!\n",
            "나는 파이썬 왕이 될 사람이다!!\n",
            "나는 파이썬 왕이 될 사람이다!!\n",
            "나는 파이썬 왕이 될 사람이다!!\n",
            "나는 파이썬 왕이 될 사람이다!!\n",
            "나는 파이썬 왕이 될 사람이다!!\n",
            "나는 파이썬 왕이 될 사람이다!!\n",
            "나는 파이썬 왕이 될 사람이다!!\n",
            "나는 파이썬 왕이 될 사람이다!!\n",
            "나는 파이썬 왕이 될 사람이다!!\n",
            "나는 파이썬 왕이 될 사람이다!!\n",
            "나는 파이썬 왕이 될 사람이다!!\n",
            "나는 파이썬 왕이 될 사람이다!!\n",
            "나는 파이썬 왕이 될 사람이다!!\n",
            "나는 파이썬 왕이 될 사람이다!!\n",
            "나는 파이썬 왕이 될 사람이다!!\n",
            "나는 파이썬 왕이 될 사람이다!!\n",
            "나는 파이썬 왕이 될 사람이다!!\n",
            "나는 파이썬 왕이 될 사람이다!!\n",
            "나는 파이썬 왕이 될 사람이다!!\n",
            "나는 파이썬 왕이 될 사람이다!!\n",
            "나는 파이썬 왕이 될 사람이다!!\n",
            "나는 파이썬 왕이 될 사람이다!!\n",
            "나는 파이썬 왕이 될 사람이다!!\n",
            "나는 파이썬 왕이 될 사람이다!!\n",
            "나는 파이썬 왕이 될 사람이다!!\n",
            "나는 파이썬 왕이 될 사람이다!!\n",
            "나는 파이썬 왕이 될 사람이다!!\n",
            "나는 파이썬 왕이 될 사람이다!!\n",
            "나는 파이썬 왕이 될 사람이다!!\n",
            "나는 파이썬 왕이 될 사람이다!!\n",
            "나는 파이썬 왕이 될 사람이다!!\n",
            "나는 파이썬 왕이 될 사람이다!!\n",
            "나는 파이썬 왕이 될 사람이다!!\n",
            "나는 파이썬 왕이 될 사람이다!!\n",
            "나는 파이썬 왕이 될 사람이다!!\n",
            "나는 파이썬 왕이 될 사람이다!!\n",
            "나는 파이썬 왕이 될 사람이다!!\n",
            "나는 파이썬 왕이 될 사람이다!!\n",
            "나는 파이썬 왕이 될 사람이다!!\n",
            "나는 파이썬 왕이 될 사람이다!!\n",
            "나는 파이썬 왕이 될 사람이다!!\n",
            "나는 파이썬 왕이 될 사람이다!!\n",
            "나는 파이썬 왕이 될 사람이다!!\n",
            "나는 파이썬 왕이 될 사람이다!!\n",
            "나는 파이썬 왕이 될 사람이다!!\n",
            "나는 파이썬 왕이 될 사람이다!!\n",
            "나는 파이썬 왕이 될 사람이다!!\n",
            "나는 파이썬 왕이 될 사람이다!!\n",
            "나는 파이썬 왕이 될 사람이다!!\n",
            "나는 파이썬 왕이 될 사람이다!!\n",
            "나는 파이썬 왕이 될 사람이다!!\n",
            "나는 파이썬 왕이 될 사람이다!!\n",
            "나는 파이썬 왕이 될 사람이다!!\n",
            "나는 파이썬 왕이 될 사람이다!!\n",
            "나는 파이썬 왕이 될 사람이다!!\n",
            "나는 파이썬 왕이 될 사람이다!!\n",
            "나는 파이썬 왕이 될 사람이다!!\n",
            "나는 파이썬 왕이 될 사람이다!!\n",
            "나는 파이썬 왕이 될 사람이다!!\n",
            "나는 파이썬 왕이 될 사람이다!!\n",
            "나는 파이썬 왕이 될 사람이다!!\n",
            "나는 파이썬 왕이 될 사람이다!!\n",
            "나는 파이썬 왕이 될 사람이다!!\n",
            "나는 파이썬 왕이 될 사람이다!!\n",
            "나는 파이썬 왕이 될 사람이다!!\n",
            "나는 파이썬 왕이 될 사람이다!!\n",
            "나는 파이썬 왕이 될 사람이다!!\n",
            "나는 파이썬 왕이 될 사람이다!!\n",
            "나는 파이썬 왕이 될 사람이다!!\n",
            "나는 파이썬 왕이 될 사람이다!!\n"
          ]
        }
      ]
    },
    {
      "cell_type": "markdown",
      "source": [
        "if 조건문"
      ],
      "metadata": {
        "id": "qPSKBszifZ2c"
      }
    },
    {
      "cell_type": "code",
      "source": [
        "if 10>0:\n",
        "  print('안녕하세요?')"
      ],
      "metadata": {
        "colab": {
          "base_uri": "https://localhost:8080/"
        },
        "id": "aREBXU95fcCH",
        "outputId": "420bceb5-460a-4d3c-b55f-4246b6a1f399"
      },
      "execution_count": null,
      "outputs": [
        {
          "output_type": "stream",
          "name": "stdout",
          "text": [
            "안녕하세요?\n"
          ]
        }
      ]
    },
    {
      "cell_type": "code",
      "source": [
        "if 0>10:\n",
        "  print('안녕하세요?')"
      ],
      "metadata": {
        "id": "yV_bpOb3fjmJ"
      },
      "execution_count": null,
      "outputs": []
    },
    {
      "cell_type": "code",
      "source": [
        "if 10!=0 and 5%2==1:\n",
        "  print('안녕하세요?')"
      ],
      "metadata": {
        "colab": {
          "base_uri": "https://localhost:8080/"
        },
        "id": "nV4eYXkOfmoN",
        "outputId": "018ecaf2-a7fa-423d-e138-6e20f271f9c8"
      },
      "execution_count": null,
      "outputs": [
        {
          "output_type": "stream",
          "name": "stdout",
          "text": [
            "안녕하세요?\n"
          ]
        }
      ]
    },
    {
      "cell_type": "code",
      "source": [
        "password=int(input('비밀번호 4자리를 입력하세요: '))\n",
        "if password ==1531:\n",
        "  print('비밀번호가 일치합니다.')\n",
        "if password!=1531:\n",
        "  print('비밀번호가 일치하지 않습니다')"
      ],
      "metadata": {
        "colab": {
          "base_uri": "https://localhost:8080/"
        },
        "id": "iIB4PtKpfsth",
        "outputId": "3459d2e2-3d9d-47b6-b1fc-d4067b55d98e"
      },
      "execution_count": null,
      "outputs": [
        {
          "output_type": "stream",
          "name": "stdout",
          "text": [
            "비밀번호 4자리를 입력하세요: 1234\n",
            "비밀번호가 일치하지 않습니다\n"
          ]
        }
      ]
    },
    {
      "cell_type": "code",
      "source": [
        "password=int(input('비밀번호 4자리를 입력하세요: '))\n",
        "if password ==1531:\n",
        "  print('비밀번호가 일치합니다.')\n",
        "else:\n",
        "  print('비밀번호가 일치하지 않습니다')"
      ],
      "metadata": {
        "colab": {
          "base_uri": "https://localhost:8080/"
        },
        "id": "Up7g8yPxf6us",
        "outputId": "fd8aa71c-6956-4409-b82b-846a1ecf44fe"
      },
      "execution_count": null,
      "outputs": [
        {
          "output_type": "stream",
          "name": "stdout",
          "text": [
            "비밀번호 4자리를 입력하세요: 356\n",
            "비밀번호가 일치하지 않습니다\n"
          ]
        }
      ]
    },
    {
      "cell_type": "markdown",
      "source": [
        "순서가 있는 저장공간 리스트"
      ],
      "metadata": {
        "id": "BxTntQBEi6Eb"
      }
    },
    {
      "cell_type": "code",
      "source": [
        "for i in [0,1,2,3]:\n",
        "  print(i**2)"
      ],
      "metadata": {
        "colab": {
          "base_uri": "https://localhost:8080/"
        },
        "id": "A6ZEgjyvjAby",
        "outputId": "3fbf18c5-bec2-4b7f-80f4-d0eb0552d565"
      },
      "execution_count": null,
      "outputs": [
        {
          "output_type": "stream",
          "name": "stdout",
          "text": [
            "0\n",
            "1\n",
            "4\n",
            "9\n"
          ]
        }
      ]
    },
    {
      "cell_type": "code",
      "source": [
        "names=['쵸파', '루피', '상디', '조로']\n",
        "for name in names:\n",
        "  print(name)"
      ],
      "metadata": {
        "colab": {
          "base_uri": "https://localhost:8080/"
        },
        "id": "ENm0qJHdjDYF",
        "outputId": "42be9e2b-9be7-4ac4-c304-962ab5e998b8"
      },
      "execution_count": null,
      "outputs": [
        {
          "output_type": "stream",
          "name": "stdout",
          "text": [
            "쵸파\n",
            "루피\n",
            "상디\n",
            "조로\n"
          ]
        }
      ]
    },
    {
      "cell_type": "code",
      "source": [
        "print(names[1])"
      ],
      "metadata": {
        "colab": {
          "base_uri": "https://localhost:8080/"
        },
        "id": "uA8k6I-ojJBk",
        "outputId": "6878af4b-9ae5-4661-e731-0d502274294b"
      },
      "execution_count": null,
      "outputs": [
        {
          "output_type": "stream",
          "name": "stdout",
          "text": [
            "루피\n"
          ]
        }
      ]
    },
    {
      "cell_type": "code",
      "source": [
        "print(names[-1])"
      ],
      "metadata": {
        "colab": {
          "base_uri": "https://localhost:8080/"
        },
        "id": "RkPfl8QqjN9W",
        "outputId": "7156bb00-c923-440f-fd56-04489c2b57f3"
      },
      "execution_count": null,
      "outputs": [
        {
          "output_type": "stream",
          "name": "stdout",
          "text": [
            "조로\n"
          ]
        }
      ]
    },
    {
      "cell_type": "code",
      "source": [
        "print(names[0:2])"
      ],
      "metadata": {
        "colab": {
          "base_uri": "https://localhost:8080/"
        },
        "id": "DrNTyQ9djWgC",
        "outputId": "2d776946-69de-4a33-ef7b-91a2f82a2e1f"
      },
      "execution_count": null,
      "outputs": [
        {
          "output_type": "stream",
          "name": "stdout",
          "text": [
            "['쵸파', '루피']\n"
          ]
        }
      ]
    },
    {
      "cell_type": "code",
      "source": [
        "print(names[1:])"
      ],
      "metadata": {
        "colab": {
          "base_uri": "https://localhost:8080/"
        },
        "id": "Q4XLJ3bIjaev",
        "outputId": "e4da5118-5d12-4fa7-d775-1a4a5a2e0a6b"
      },
      "execution_count": null,
      "outputs": [
        {
          "output_type": "stream",
          "name": "stdout",
          "text": [
            "['루피', '상디', '조로']\n"
          ]
        }
      ]
    },
    {
      "cell_type": "code",
      "source": [
        "names.append('나미')   #append는 리스트 원소를 추가\n",
        "print(names)"
      ],
      "metadata": {
        "colab": {
          "base_uri": "https://localhost:8080/"
        },
        "id": "dBAVhG0tjgWW",
        "outputId": "9fe16744-47cc-4f6f-9f63-77e6a9d63290"
      },
      "execution_count": null,
      "outputs": [
        {
          "output_type": "stream",
          "name": "stdout",
          "text": [
            "['쵸파', '루피', '상디', '조로', '나미']\n"
          ]
        }
      ]
    },
    {
      "cell_type": "code",
      "source": [
        "print(len(names))  # len() 함수는 리스트에 원소(element)가 몇 개 들어 있는지 보여줌"
      ],
      "metadata": {
        "colab": {
          "base_uri": "https://localhost:8080/"
        },
        "id": "Myqrz8Ufkf6P",
        "outputId": "cbbbaa33-839c-4c20-85c6-ed791e691f9e"
      },
      "execution_count": null,
      "outputs": [
        {
          "output_type": "stream",
          "name": "stdout",
          "text": [
            "5\n"
          ]
        }
      ]
    },
    {
      "cell_type": "code",
      "source": [
        "print(len('data analysis for everyone'))"
      ],
      "metadata": {
        "colab": {
          "base_uri": "https://localhost:8080/"
        },
        "id": "BO4Hw6-fkins",
        "outputId": "a260e679-d02d-4f84-c29e-f46c583a45ae"
      },
      "execution_count": null,
      "outputs": [
        {
          "output_type": "stream",
          "name": "stdout",
          "text": [
            "26\n"
          ]
        }
      ]
    },
    {
      "cell_type": "code",
      "source": [
        "names.remove('나미')  #remove는 리스트 원소를 삭제\n",
        "names"
      ],
      "metadata": {
        "colab": {
          "base_uri": "https://localhost:8080/"
        },
        "id": "EHRtb_B6l7aC",
        "outputId": "21a9af70-c278-4fc8-9808-e6286dd50c1a"
      },
      "execution_count": null,
      "outputs": [
        {
          "output_type": "execute_result",
          "data": {
            "text/plain": [
              "['쵸파', '루피', '상디', '조로', '해적왕']"
            ]
          },
          "metadata": {},
          "execution_count": 37
        }
      ]
    },
    {
      "cell_type": "code",
      "source": [
        "names.append('해적왕')\n",
        "for name in names:\n",
        "  if len(name)>2:\n",
        "    print(name, '왔나요?')"
      ],
      "metadata": {
        "colab": {
          "base_uri": "https://localhost:8080/"
        },
        "id": "Ei3MyeGLkln5",
        "outputId": "590c0e77-34bf-4d4f-dc19-47f46d2621fb"
      },
      "execution_count": null,
      "outputs": [
        {
          "output_type": "stream",
          "name": "stdout",
          "text": [
            "해적왕 왔나요?\n"
          ]
        }
      ]
    },
    {
      "cell_type": "code",
      "source": [],
      "metadata": {
        "id": "w00muGsvkvmq"
      },
      "execution_count": null,
      "outputs": []
    }
  ]
}