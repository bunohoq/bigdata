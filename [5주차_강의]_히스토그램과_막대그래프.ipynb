{
  "nbformat": 4,
  "nbformat_minor": 0,
  "metadata": {
    "colab": {
      "provenance": [],
      "authorship_tag": "ABX9TyOkERlAiVEli6z9iv2EvyrC",
      "include_colab_link": true
    },
    "kernelspec": {
      "name": "python3",
      "display_name": "Python 3"
    },
    "language_info": {
      "name": "python"
    }
  },
  "cells": [
    {
      "cell_type": "markdown",
      "metadata": {
        "id": "view-in-github",
        "colab_type": "text"
      },
      "source": [
        "<a href=\"https://colab.research.google.com/github/shkimusw/bigdata/blob/main/%5B5%EC%A3%BC%EC%B0%A8_%EA%B0%95%EC%9D%98%5D_%ED%9E%88%EC%8A%A4%ED%86%A0%EA%B7%B8%EB%9E%A8%EA%B3%BC_%08%EB%A7%89%EB%8C%80%EA%B7%B8%EB%9E%98%ED%94%84.ipynb\" target=\"_parent\"><img src=\"https://colab.research.google.com/assets/colab-badge.svg\" alt=\"Open In Colab\"/></a>"
      ]
    },
    {
      "cell_type": "markdown",
      "source": [
        "## **히스토그램 (p.78)**"
      ],
      "metadata": {
        "id": "4duPXsdGZcfV"
      }
    },
    {
      "cell_type": "code",
      "execution_count": null,
      "metadata": {
        "id": "Ps5--3shZOPH"
      },
      "outputs": [],
      "source": [
        "import matplotlib.pyplot as plt\n",
        "plt.hist([1,1,2,3,4,5,6,6,7,8,10])\n",
        "plt.show()"
      ]
    },
    {
      "cell_type": "code",
      "source": [
        "#주사위를 던졌을 때 나오는 결과를 히스토그램으로 표현하기\n",
        "import random\n",
        "print(random.randint(1,6)) #주사위 던지기"
      ],
      "metadata": {
        "colab": {
          "base_uri": "https://localhost:8080/"
        },
        "id": "935GXQwma-Xr",
        "outputId": "c811959c-cd25-45f3-bc6c-b8836c336504"
      },
      "execution_count": null,
      "outputs": [
        {
          "output_type": "stream",
          "name": "stdout",
          "text": [
            "4\n"
          ]
        }
      ]
    },
    {
      "cell_type": "code",
      "source": [
        "import random\n",
        "dice=[]\n",
        "for i in range(5): #다섯번 던짐\n",
        "  dice.append(random.randint(1,6)) #기존의 dice 변수에 결과를 추가함\n",
        "print(dice)"
      ],
      "metadata": {
        "colab": {
          "base_uri": "https://localhost:8080/"
        },
        "id": "WlG8mwbRb8wS",
        "outputId": "49c4c9d1-007b-4e98-94fa-5526af619b27"
      },
      "execution_count": null,
      "outputs": [
        {
          "output_type": "stream",
          "name": "stdout",
          "text": [
            "[4, 6, 1, 4, 2]\n"
          ]
        }
      ]
    },
    {
      "cell_type": "code",
      "source": [
        "#저장된 dice 변수의 값을 히스토그램으로 표현해보자\n",
        "import matplotlib.pyplot as plt\n",
        "plt.hist(dice, bins=6) #6구간으로 나눔\n",
        "plt.show()"
      ],
      "metadata": {
        "id": "aNKUzt2KcNk4"
      },
      "execution_count": null,
      "outputs": []
    },
    {
      "cell_type": "code",
      "source": [
        "#주사위 100번 굴려보기\n",
        "dice2=[]\n",
        "for i in range(100):\n",
        "  dice2.append(random.randint(1,6))\n",
        "plt.hist(dice2, bins=6) #6구간으로 나눔\n",
        "plt.show()"
      ],
      "metadata": {
        "id": "cgldOOJpcZ1r"
      },
      "execution_count": null,
      "outputs": []
    },
    {
      "cell_type": "code",
      "source": [
        "#주사위 100만번(!!!) 굴려보기 - 대수의 법칙이 확인됨\n",
        "dice3=[]\n",
        "for i in range(1000000):\n",
        "  dice3.append(random.randint(1,6))\n",
        "plt.hist(dice3, bins=6) #6구간으로 나눔\n",
        "plt.show()"
      ],
      "metadata": {
        "id": "6lynhszReXql"
      },
      "execution_count": null,
      "outputs": []
    },
    {
      "cell_type": "markdown",
      "source": [
        "## **막대그래프**"
      ],
      "metadata": {
        "id": "R8Mmfbq9fvbJ"
      }
    },
    {
      "cell_type": "code",
      "source": [
        "import matplotlib.pyplot as plt\n",
        "plt.bar([0,1,2,4,6,10],[1,2,3,5,6,7]) # bar(막대표시x축위치, 막대높이)\n",
        "plt.show()"
      ],
      "metadata": {
        "id": "sXGDQPvef3un"
      },
      "execution_count": null,
      "outputs": []
    },
    {
      "cell_type": "code",
      "source": [
        "plt.bar([0,3,2,1,6,10],[1,2,3,5,6,7]) #x축이 순서대로 표기되지 않은 경우\n",
        "plt.show()"
      ],
      "metadata": {
        "id": "Yz0facSzgQIG"
      },
      "execution_count": null,
      "outputs": []
    },
    {
      "cell_type": "code",
      "source": [
        "plt.bar(range(6),[1,2,3,5,6,7]) #range() 함수 사용\n",
        "plt.show()"
      ],
      "metadata": {
        "id": "0M3yFkQngmdV"
      },
      "execution_count": null,
      "outputs": []
    },
    {
      "cell_type": "code",
      "source": [
        "#수평막대그래프: barh()\n",
        "plt.barh(range(6),[1,2,3,5,6,7]) #range() 함수 사용\n",
        "plt.show()\n"
      ],
      "metadata": {
        "id": "WLb_IKLpg9i2"
      },
      "execution_count": null,
      "outputs": []
    },
    {
      "cell_type": "code",
      "source": [
        "plt.barh(range(101),range(101))"
      ],
      "metadata": {
        "id": "hOzXUKE2hOlO"
      },
      "execution_count": null,
      "outputs": []
    }
  ]
}