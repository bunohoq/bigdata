{
  "nbformat": 4,
  "nbformat_minor": 0,
  "metadata": {
    "colab": {
      "provenance": [],
      "collapsed_sections": [],
      "include_colab_link": true
    },
    "kernelspec": {
      "name": "python3",
      "display_name": "Python 3"
    },
    "language_info": {
      "name": "python"
    }
  },
  "cells": [
    {
      "cell_type": "markdown",
      "metadata": {
        "id": "view-in-github",
        "colab_type": "text"
      },
      "source": [
        "<a href=\"https://colab.research.google.com/github/shkimusw/bigdata/blob/main/%5B5%EC%A3%BC%EC%B0%A8_%EA%B0%95%EC%9D%98%5D_%E1%84%91%E1%85%A1%E1%84%8B%E1%85%B5%E1%84%8E%E1%85%A1%E1%84%90%E1%85%B3_%E1%84%86%E1%85%A1%E1%86%AB%E1%84%83%E1%85%B3%E1%86%AF%E1%84%80%E1%85%B5.ipynb\" target=\"_parent\"><img src=\"https://colab.research.google.com/assets/colab-badge.svg\" alt=\"Open In Colab\"/></a>"
      ]
    },
    {
      "cell_type": "code",
      "source": [
        "#코랩에 나눔 글꼴 설치\n",
        "\n",
        "!sudo apt-get install -y fonts-nanum\n",
        "!sudo fc-cache -fv\n",
        "!rm ~/.cache/matplotlib -rf\n"
      ],
      "metadata": {
        "id": "JkNEyAHcIIG5"
      },
      "execution_count": null,
      "outputs": []
    },
    {
      "cell_type": "code",
      "source": [
        "# 단계 2: 런타임 재시작\n",
        "import os\n",
        "os.kill(os.getpid(), 9)"
      ],
      "metadata": {
        "id": "wlzrO4vEIXH0"
      },
      "execution_count": null,
      "outputs": []
    },
    {
      "cell_type": "code",
      "source": [
        "import matplotlib.pyplot as plt\n",
        "plt.pie([10,20])\n",
        "plt.show()"
      ],
      "metadata": {
        "id": "g6l1OTRLCbIn"
      },
      "execution_count": null,
      "outputs": []
    },
    {
      "cell_type": "code",
      "source": [
        "\n",
        "import matplotlib.pyplot as plt\n",
        "size=[2441,2312,1031,1233]\n",
        "label=['A형', 'B형', 'O형', 'AB형']\n",
        "plt.axis('equal') #원 그리기\n",
        "plt.rc('font', family='NanumBarunGothic') \n",
        "plt.pie(size, labels=label)\n",
        "plt.show()"
      ],
      "metadata": {
        "id": "9GwEWV61Ebiz"
      },
      "execution_count": null,
      "outputs": []
    },
    {
      "cell_type": "code",
      "source": [
        "\n",
        "plt.axis('equal')\n",
        "plt.rc('font', family='NanumBarunGothic') \n",
        "plt.pie(size, labels=label, autopct='%.1f%%')\n",
        "plt.legend()\n",
        "plt.show()"
      ],
      "metadata": {
        "id": "osNZXJ28Eomh"
      },
      "execution_count": null,
      "outputs": []
    },
    {
      "cell_type": "code",
      "source": [
        "#색 바꾸기, 강조하고 싶은 유형 빼기\n",
        "plt.axis('equal')\n",
        "plt.rc('font', family='NanumBarunGothic') \n",
        "color=['darkmagenta', 'deeppink','hotpink', 'pink']\n",
        "plt.pie(size, labels=label, autopct='%.1f%%', colors=color, explode=(0,0,0.1,0))\n",
        "plt.legend()\n",
        "plt.show()"
      ],
      "metadata": {
        "id": "togv3BBIFQoe"
      },
      "execution_count": null,
      "outputs": []
    },
    {
      "cell_type": "code",
      "source": [
        "help(plt.pie)"
      ],
      "metadata": {
        "id": "8E2ITFPbJlVK"
      },
      "execution_count": null,
      "outputs": []
    },
    {
      "cell_type": "code",
      "source": [],
      "metadata": {
        "id": "_5CXzZluJzok"
      },
      "execution_count": null,
      "outputs": []
    }
  ]
}